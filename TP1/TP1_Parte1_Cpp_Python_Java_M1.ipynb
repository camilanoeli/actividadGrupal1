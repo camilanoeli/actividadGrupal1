{
  "nbformat": 4,
  "nbformat_minor": 0,
  "metadata": {
    "colab": {
      "provenance": [],
      "include_colab_link": true
    },
    "kernelspec": {
      "name": "python3",
      "display_name": "Python 3"
    },
    "language_info": {
      "name": "python"
    }
  },
  "cells": [
    {
      "cell_type": "markdown",
      "metadata": {
        "id": "view-in-github",
        "colab_type": "text"
      },
      "source": [
        "<a href=\"https://colab.research.google.com/github/camilanoeli/actividadGrupal1/blob/master/TP1/TP1_Parte1_Cpp_Python_Java_M1.ipynb\" target=\"_parent\"><img src=\"https://colab.research.google.com/assets/colab-badge.svg\" alt=\"Open In Colab\"/></a>"
      ]
    },
    {
      "cell_type": "markdown",
      "source": [
        "# **C++**"
      ],
      "metadata": {
        "id": "BL5HWEbrTszQ"
      }
    },
    {
      "cell_type": "code",
      "execution_count": null,
      "metadata": {
        "colab": {
          "base_uri": "https://localhost:8080/"
        },
        "id": "WFlR4yV2PHCS",
        "outputId": "aa8df482-27f2-4a0d-d90c-730e3e29a8be"
      },
      "outputs": [
        {
          "output_type": "stream",
          "name": "stdout",
          "text": [
            "Overwriting tp1.cpp\n"
          ]
        }
      ],
      "source": [
        "%%writefile tp1.cpp\n",
        "#include <iostream>\n",
        "#include <unistd.h>\n",
        "#include <vector>\n",
        "#include <string>\n",
        "#include <sys/wait.h>\n",
        "\n",
        "// Estructura con la que armamos el árbol\n",
        "typedef struct Node\n",
        "{\n",
        "    std::string name;\n",
        "    std::vector<Node> children;\n",
        "} Node;\n",
        "\n",
        "int spawnProcesses(Node&);\n",
        "void processMessage(Node& node)\n",
        "{\n",
        "    std::cout << \"Hola mi nombre es \" << node.name << \". PID: \" << getpid() << \" P_PID: \"<< getppid() << std::endl;\n",
        "}\n",
        "\n",
        "int main()\n",
        "{\n",
        "    Node nodo = {\"A\", {{\"B\", {{\"E\"}, {\"F\"}}}, {\"C\"}, {\"D\", {{\"G\"}}}}};\n",
        "    spawnProcesses(nodo);\n",
        "    return EXIT_SUCCESS;\n",
        "}\n",
        "\n",
        "\n",
        "// Función recursiva encargada de crear los procesos hijos y esperarlos\n",
        "int spawnProcesses(Node& node)\n",
        "{\n",
        "    int pid = 0;\n",
        "    processMessage(node);\n",
        "    for(auto& child : node.children)\n",
        "    {\n",
        "        pid = fork();\n",
        "        if (pid == -1)\n",
        "        {\n",
        "            perror(\"fork\");\n",
        "            exit(EXIT_FAILURE);\n",
        "        }\n",
        "        else if(pid == 0)\n",
        "        {\n",
        "            spawnProcesses(child);\n",
        "            sleep(50);\n",
        "            return EXIT_SUCCESS;\n",
        "        }\n",
        "    }\n",
        "\n",
        "    for(const auto& child : node.children)\n",
        "    {\n",
        "        wait(nullptr);\n",
        "    }\n",
        "    return EXIT_SUCCESS;\n",
        "}\n",
        "\n",
        "\n"
      ]
    },
    {
      "cell_type": "code",
      "source": [
        "!touch resultado_cpp && chmod 700 resultado_cpp"
      ],
      "metadata": {
        "id": "DeHj30g6vKN9"
      },
      "execution_count": null,
      "outputs": []
    },
    {
      "cell_type": "code",
      "source": [
        "!g++ tp1.cpp -o tp1.out"
      ],
      "metadata": {
        "id": "zIEHX06mT2dY"
      },
      "execution_count": null,
      "outputs": []
    },
    {
      "cell_type": "code",
      "source": [
        "!nohup ./tp1.out 1>resultado_cpp 2>/dev/null &"
      ],
      "metadata": {
        "id": "REVuFEeZvZ3v"
      },
      "execution_count": null,
      "outputs": []
    },
    {
      "cell_type": "code",
      "source": [
        "!cat resultado_cpp"
      ],
      "metadata": {
        "colab": {
          "base_uri": "https://localhost:8080/"
        },
        "id": "DI6unwmVvlWX",
        "outputId": "12744702-cf13-4b34-fe8f-94ec3b25ae42"
      },
      "execution_count": null,
      "outputs": [
        {
          "output_type": "stream",
          "name": "stdout",
          "text": [
            "Hola mi nombre es A. PID: 1856 P_PID: 1\n",
            "Hola mi nombre es B. PID: 1857 P_PID: 1856\n",
            "Hola mi nombre es C. PID: 1858 P_PID: 1856\n",
            "Hola mi nombre es E. PID: 1860 P_PID: 1857\n",
            "Hola mi nombre es D. PID: 1859 P_PID: 1856\n",
            "Hola mi nombre es F. PID: 1861 P_PID: 1857\n",
            "Hola mi nombre es G. PID: 1862 P_PID: 1859\n"
          ]
        }
      ]
    },
    {
      "cell_type": "code",
      "source": [
        "!ps -ef | grep tp1.out"
      ],
      "metadata": {
        "colab": {
          "base_uri": "https://localhost:8080/"
        },
        "id": "gRFJcAONu0co",
        "outputId": "39f3ed92-4b8d-4ad3-9aa0-f87088ce2f5d"
      },
      "execution_count": null,
      "outputs": [
        {
          "output_type": "stream",
          "name": "stdout",
          "text": [
            "root        1856       1  0 23:21 ?        00:00:00 ./tp1.out\n",
            "root        1857    1856  0 23:21 ?        00:00:00 ./tp1.out\n",
            "root        1858    1856  0 23:21 ?        00:00:00 ./tp1.out\n",
            "root        1859    1856  0 23:21 ?        00:00:00 ./tp1.out\n",
            "root        1860    1857  0 23:21 ?        00:00:00 ./tp1.out\n",
            "root        1861    1857  0 23:21 ?        00:00:00 ./tp1.out\n",
            "root        1862    1859  0 23:21 ?        00:00:00 ./tp1.out\n",
            "root        1898    1712  0 23:21 ?        00:00:00 /bin/bash -c ps -ef | grep tp1.out\n",
            "root        1900    1898  0 23:21 ?        00:00:00 grep tp1.out\n"
          ]
        }
      ]
    },
    {
      "cell_type": "code",
      "source": [
        "!pstree -pc $(pgrep -f tp1.out -P 1)"
      ],
      "metadata": {
        "colab": {
          "base_uri": "https://localhost:8080/"
        },
        "id": "Jr8lpTd9vpww",
        "outputId": "e31a41f2-9eff-421b-cd59-8b08b041f9e3"
      },
      "execution_count": null,
      "outputs": [
        {
          "output_type": "stream",
          "name": "stdout",
          "text": [
            "tp1.out(1856)─┬─tp1.out(1857)─┬─tp1.out(1860)\n",
            "              │               └─tp1.out(1861)\n",
            "              ├─tp1.out(1858)\n",
            "              └─tp1.out(1859)───tp1.out(1862)\n"
          ]
        }
      ]
    },
    {
      "cell_type": "markdown",
      "source": [
        "# **Python**"
      ],
      "metadata": {
        "id": "LwY3qgVymsfR"
      }
    },
    {
      "cell_type": "code",
      "source": [
        "%%writefile tp1.py\n",
        "import os\n",
        "import time\n",
        "\n",
        "def processMessage(node):\n",
        "    message = \"Hola mi nombre es {name}. PID: {pid}. PPID {ppid}\\n\"\n",
        "    print(message.format(name=node,pid=os.getpid(),ppid=os.getppid()))\n",
        "\n",
        "def spawnProcesses(node):\n",
        "    pid=0\n",
        "    name,children = node\n",
        "    processMessage(name)\n",
        "    for item in children:\n",
        "        pid=os.fork()\n",
        "        if pid < 0:\n",
        "            print(\"Error al crear nuevo proceso\")\n",
        "            os._exit(1)\n",
        "        if not pid:\n",
        "            spawnProcesses(item)\n",
        "            time.sleep(200)\n",
        "            os._exit(0)\n",
        "    for item in children:\n",
        "        os.wait()\n",
        "\n",
        "def main():\n",
        "    tree = (\"A\", [(\"B\", [(\"E\",[]), (\"F\",[])]), (\"C\",[]), (\"D\", [(\"G\",[])])])\n",
        "    spawnProcesses(tree)\n",
        "    os._exit(0)\n",
        "\n",
        "main()"
      ],
      "metadata": {
        "colab": {
          "base_uri": "https://localhost:8080/"
        },
        "id": "fHkLWa0sm5Gu",
        "outputId": "fd1c380b-661d-451f-94af-452565a39922"
      },
      "execution_count": null,
      "outputs": [
        {
          "output_type": "stream",
          "name": "stdout",
          "text": [
            "Writing tp1.py\n"
          ]
        }
      ]
    },
    {
      "cell_type": "code",
      "source": [
        "!touch resultado_py && chmod 700 resultado_py"
      ],
      "metadata": {
        "id": "dhk3etU4oaod"
      },
      "execution_count": null,
      "outputs": []
    },
    {
      "cell_type": "code",
      "source": [
        "!nohup python3 -u tp1.py 1>resultado_py 2>/dev/null &"
      ],
      "metadata": {
        "id": "b2pcJM0PorEM"
      },
      "execution_count": null,
      "outputs": []
    },
    {
      "cell_type": "code",
      "source": [
        "!cat resultado_py"
      ],
      "metadata": {
        "id": "iAJBwC6ro1c3",
        "colab": {
          "base_uri": "https://localhost:8080/"
        },
        "outputId": "1100d1bb-be81-4537-9943-6629b24459fd"
      },
      "execution_count": null,
      "outputs": [
        {
          "output_type": "stream",
          "name": "stdout",
          "text": [
            "Hola mi nombre es A. PID: 503. PPID 1\n",
            "\n",
            "Hola mi nombre es C. PID: 505. PPID 503\n",
            "\n",
            "Hola mi nombre es D. PID: 506. PPID 503\n",
            "\n",
            "Hola mi nombre es G. PID: 507. PPID 506\n",
            "\n",
            "Hola mi nombre es B. PID: 504. PPID 503\n",
            "\n",
            "Hola mi nombre es F. PID: 509. PPID 504\n",
            "\n",
            "Hola mi nombre es E. PID: 508. PPID 504\n",
            "\n"
          ]
        }
      ]
    },
    {
      "cell_type": "code",
      "source": [
        "!ps -ef | grep tp1.py"
      ],
      "metadata": {
        "colab": {
          "base_uri": "https://localhost:8080/"
        },
        "id": "DuP-9MMJo9mu",
        "outputId": "2f35ce3b-ea83-4132-fa70-0019cd7b5b3d"
      },
      "execution_count": null,
      "outputs": [
        {
          "output_type": "stream",
          "name": "stdout",
          "text": [
            "root         503       1  1 01:36 ?        00:00:00 python3 -u tp1.py\n",
            "root         504     503  0 01:36 ?        00:00:00 python3 -u tp1.py\n",
            "root         505     503  0 01:36 ?        00:00:00 python3 -u tp1.py\n",
            "root         506     503  0 01:36 ?        00:00:00 python3 -u tp1.py\n",
            "root         507     506  0 01:36 ?        00:00:00 python3 -u tp1.py\n",
            "root         508     504  0 01:36 ?        00:00:00 python3 -u tp1.py\n",
            "root         509     504  0 01:36 ?        00:00:00 python3 -u tp1.py\n",
            "root         531     348  0 01:36 ?        00:00:00 /bin/bash -c ps -ef | grep tp1.py\n",
            "root         533     531  0 01:36 ?        00:00:00 grep tp1.py\n"
          ]
        }
      ]
    },
    {
      "cell_type": "code",
      "source": [
        "!pstree -pc $(pgrep -f tp1.py -P 1)"
      ],
      "metadata": {
        "colab": {
          "base_uri": "https://localhost:8080/"
        },
        "id": "4m0665ETpJws",
        "outputId": "b2cc0b30-daf7-4b0c-87ac-f65fff7162ae"
      },
      "execution_count": null,
      "outputs": [
        {
          "output_type": "stream",
          "name": "stdout",
          "text": [
            "python3(503)─┬─python3(504)─┬─python3(508)\n",
            "             │              └─python3(509)\n",
            "             ├─python3(505)\n",
            "             └─python3(506)───python3(507)\n"
          ]
        }
      ]
    },
    {
      "cell_type": "markdown",
      "source": [
        "Comentarios:\n",
        "\n",
        "\n",
        "*   Al principio python no imprimia el output en el archivo resultado_py porque le faltaba la opcion -u en el comando de ejecucion\n",
        "\n",
        "\n",
        "\n"
      ],
      "metadata": {
        "id": "kTJp-IrPtwJ_"
      }
    },
    {
      "cell_type": "markdown",
      "source": [
        "# **Java**"
      ],
      "metadata": {
        "id": "ofc1NnVQ2D85"
      }
    },
    {
      "cell_type": "code",
      "source": [
        "%%writefile Main.java\n",
        "import java.io.IOException;\n",
        "\n",
        "public class Main \n",
        "{\n",
        "    public static void main(String[] args) \n",
        "    {\n",
        "        //Construimos Proceso B\n",
        "        ProcessBuilder processBuilderB = new ProcessBuilder(\"java\", \"ChildProcess.java\", \"B\");\n",
        "        processBuilderB.redirectErrorStream(true);\n",
        "        processBuilderB.inheritIO();\n",
        "  \n",
        "        //Construimos Proceso C\n",
        "        ProcessBuilder processBuilderC = new ProcessBuilder(\"java\", \"ChildProcess.java\", \"C\");\n",
        "        processBuilderC.redirectErrorStream(true);\n",
        "        processBuilderC.inheritIO();\n",
        "  \n",
        "        //Construimos Proceso D\n",
        "        ProcessBuilder processBuilderD = new ProcessBuilder(\"java\", \"ChildProcess.java\", \"D\");\n",
        "        processBuilderD.redirectErrorStream(true);\n",
        "        processBuilderD.inheritIO();\n",
        "  \n",
        "        try \n",
        "        {\n",
        "            // Se muestra información del Proceso\n",
        "            System.out.println(getInfoProcess());\n",
        "    \n",
        "            //Se solicita al SO el inicio del Proceso B, C y D\n",
        "            Process processB = processBuilderB.start();\n",
        "            Process processC = processBuilderC.start();\n",
        "            Process processD = processBuilderD.start();\n",
        "    \n",
        "            //Se espera señal de finalización de lo Procesos B, C y D\n",
        "            processB.waitFor();\n",
        "            processC.waitFor();\n",
        "            processD.waitFor();\n",
        "            Thread.sleep(10000);\n",
        "        } \n",
        "        //Tratamiento de excepciones\n",
        "        catch (IOException ex) \n",
        "        {\n",
        "            System.out.println(\"Error al iniciar Proceso Hijo. Mensaje de error: \" + ex.getMessage());\n",
        "        } \n",
        "        catch (InterruptedException ex) \n",
        "        {\n",
        "            System.out.println(\"Error en realizar waitFor sobre el proceso hijo. Mensaje de error: \" + ex.getMessage());\n",
        "        }\n",
        "    }\n",
        "\n",
        "    //Método para obtener información del proceso (PID, PPID)\n",
        "    public static String getInfoProcess() \n",
        "    {\n",
        "        ProcessHandle processHandle = ProcessHandle.current();\n",
        "        long pid = processHandle.pid();\n",
        "        long ppid = processHandle.parent().get().pid();\n",
        "        return String.format(\"Proceso A | PID: %s | PPID: %s\", pid, ppid);\n",
        "    }\n",
        "}"
      ],
      "metadata": {
        "colab": {
          "base_uri": "https://localhost:8080/"
        },
        "id": "rDg0alvv2F5X",
        "outputId": "85b145d0-4bc4-4aa1-9e71-20b1c3f96314"
      },
      "execution_count": null,
      "outputs": [
        {
          "output_type": "stream",
          "name": "stdout",
          "text": [
            "Overwriting Main.java\n"
          ]
        }
      ]
    },
    {
      "cell_type": "code",
      "source": [
        "%%writefile ChildProcess.java\n",
        "import java.io.IOException;\n",
        "\n",
        "public class ChildProcess \n",
        "{\n",
        "    //Definimos constantes a utilizar\n",
        "    private static final String PROCESS_B = \"B\";\n",
        "    private static final String PROCESS_D = \"D\";\n",
        "\n",
        "    public static void main(String[] args) \n",
        "    {\n",
        "        //Obtenemos el nombre del proceso recibido por parámetro\n",
        "        String processName = args[0];\n",
        "        //Mostramos la información del Proceso\n",
        "        System.out.println(\"Proceso \" + processName + \" | \" + getInfoProcess());\n",
        "        switch (processName) \n",
        "        {\n",
        "            //Lógica asociada a la ejecución del Proceso B\n",
        "            case PROCESS_B:\n",
        "                execProcessB();\n",
        "                break;\n",
        "            //Lógica asociada a la ejecución del Proceso D\n",
        "            case PROCESS_D:\n",
        "                execProcessD();\n",
        "                break;\n",
        "            default:\n",
        "                break;\n",
        "        }\n",
        "        //Sleep para verificar resultado y tratamiento de excepción \n",
        "        try \n",
        "        {\n",
        "            Thread.sleep(10000);\n",
        "        } \n",
        "        catch (InterruptedException ex) \n",
        "        {\n",
        "            System.out.println(\"Error en sleep. Mensaje: \" + ex.getMessage());\n",
        "        }\n",
        "    }\n",
        "\n",
        "    //Método para obtener información del proceso (PID y PPID)\n",
        "    public static String getInfoProcess() \n",
        "    {\n",
        "        ProcessHandle processHandle = ProcessHandle.current();\n",
        "        long pid = processHandle.pid();\n",
        "        long ppid = processHandle.parent().get().pid();\n",
        "        return String.format(\"PID: %s | PPID: %s\", pid, ppid);\n",
        "    }\n",
        "\n",
        "    //Método con las acciones a realizar por el Proceso B\n",
        "    public static void execProcessB() \n",
        "    {\n",
        "        //Se construye Proceso E\n",
        "        ProcessBuilder processBuilderE = new ProcessBuilder(\"java\", \"ChildProcess.java\", \"E\");\n",
        "        processBuilderE.redirectErrorStream(true);\n",
        "        processBuilderE.inheritIO();\n",
        "\n",
        "        //Se construye Proceso F\n",
        "        ProcessBuilder processBuilderF = new ProcessBuilder(\"java\", \"ChildProcess.java\", \"F\");\n",
        "        processBuilderF.redirectErrorStream(true);\n",
        "        processBuilderF.inheritIO();\n",
        "\n",
        "        try \n",
        "        {\n",
        "            //Se solicita al SO la ejecución del Proceso E y Proceso F\n",
        "            Process processE = processBuilderE.start();\n",
        "            Process processF = processBuilderF.start();\n",
        "  \n",
        "            //Se espera señal de finalización de los procesos E y F\n",
        "            processE.waitFor();\n",
        "            processF.waitFor();\n",
        "        } \n",
        "        //Tratamiento de excepciones\n",
        "        catch (IOException ex) \n",
        "        {\n",
        "            System.out.println(\"Error al iniciar Proceso Hijo. Mensaje de error: \" + ex.getMessage());\n",
        "        } \n",
        "        catch (InterruptedException ex) \n",
        "        {\n",
        "            System.out.println(\"Error en realizar waitFor sobre el proceso hijo. Mensaje de error: \" + ex.getMessage());\n",
        "        }\n",
        "    }\n",
        "\n",
        "    //Método con las acciones a realizar por el Proceso D\n",
        "    public static void execProcessD() \n",
        "    {\n",
        "        //Se construye Proceso G\n",
        "        ProcessBuilder processBuilderG = new ProcessBuilder(\"java\", \"ChildProcess.java\", \"G\");\n",
        "        processBuilderG.redirectErrorStream(true);\n",
        "        processBuilderG.inheritIO();\n",
        "  \n",
        "        try \n",
        "        {\n",
        "            //Se solicita al SO la ejecución del Proceso G\n",
        "            Process processG = processBuilderG.start();\n",
        "    \n",
        "            //Se espera señal de finalización del Proceso G\n",
        "            processG.waitFor();\n",
        "        } \n",
        "        //Tratamiento de excepciones\n",
        "        catch (IOException ex) \n",
        "        {\n",
        "            System.out.println(\"Error al iniciar Proceso Hijo. Mensaje de error: \" + ex.getMessage());\n",
        "        } \n",
        "        catch (InterruptedException ex) \n",
        "        {\n",
        "            System.out.println(\"Error en realizar waitFor sobre el proceso hijo. Mensaje de error: \" + ex.getMessage());\n",
        "        }\n",
        "    }\n",
        "}"
      ],
      "metadata": {
        "colab": {
          "base_uri": "https://localhost:8080/"
        },
        "id": "sjLhtGH_2JMp",
        "outputId": "6948498e-46f8-407c-84ec-8a32734b41d7"
      },
      "execution_count": null,
      "outputs": [
        {
          "output_type": "stream",
          "name": "stdout",
          "text": [
            "Overwriting ChildProcess.java\n"
          ]
        }
      ]
    },
    {
      "cell_type": "code",
      "source": [
        "!nohup java Main.java 1>salidaJava 2>/dev/null &"
      ],
      "metadata": {
        "id": "XdPAQWqt2L34"
      },
      "execution_count": null,
      "outputs": []
    },
    {
      "cell_type": "code",
      "source": [
        "!cat salidaJava"
      ],
      "metadata": {
        "colab": {
          "base_uri": "https://localhost:8080/"
        },
        "id": "rCUMYezQ2OQn",
        "outputId": "01740278-aadd-4471-8145-d155f6d92c05"
      },
      "execution_count": null,
      "outputs": [
        {
          "output_type": "stream",
          "name": "stdout",
          "text": [
            "Proceso A | PID: 4860 | PPID: 1\n",
            "Proceso C | PID: 4885 | PPID: 4860\n",
            "Proceso B | PID: 4882 | PPID: 4860\n",
            "Proceso D | PID: 4888 | PPID: 4860\n",
            "Proceso E | PID: 4954 | PPID: 4882\n",
            "Proceso F | PID: 4957 | PPID: 4882\n",
            "Proceso G | PID: 4989 | PPID: 4888\n"
          ]
        }
      ]
    },
    {
      "cell_type": "code",
      "source": [
        "!pstree -pT $(pgrep -f Main.java -P 1)"
      ],
      "metadata": {
        "id": "hqCwpeP_2QNP",
        "colab": {
          "base_uri": "https://localhost:8080/"
        },
        "outputId": "22435b6c-0e17-4b40-9f5f-bf93941f908f"
      },
      "execution_count": null,
      "outputs": [
        {
          "output_type": "stream",
          "name": "stdout",
          "text": [
            "java(4860)─┬─java(4882)─┬─java(4954)\n",
            "           │            └─java(4957)\n",
            "           ├─java(4885)\n",
            "           └─java(4888)───java(4989)\n"
          ]
        }
      ]
    }
  ]
}